{
  "nbformat": 4,
  "nbformat_minor": 0,
  "metadata": {
    "colab": {
      "provenance": [],
      "toc_visible": true
    },
    "kernelspec": {
      "name": "python3",
      "display_name": "Python 3"
    },
    "language_info": {
      "name": "python"
    },
    "accelerator": "GPU",
    "gpuClass": "standard"
  },
  "cells": [
    {
      "cell_type": "markdown",
      "source": [
        "# Fundamentals"
      ],
      "metadata": {
        "id": "iskjC1sbUip3"
      }
    },
    {
      "cell_type": "markdown",
      "source": [
        "## import torch"
      ],
      "metadata": {
        "id": "y_Db1_Q9Ve2U"
      }
    },
    {
      "cell_type": "code",
      "source": [
        "import torch\n",
        "torch.__version__"
      ],
      "metadata": {
        "colab": {
          "base_uri": "https://localhost:8080/",
          "height": 35
        },
        "id": "Sga7ZaU6UacN",
        "outputId": "419f66bb-f7e4-48ed-eec7-6cc808539f32"
      },
      "execution_count": 1,
      "outputs": [
        {
          "output_type": "execute_result",
          "data": {
            "text/plain": [
              "'2.0.0+cu118'"
            ],
            "application/vnd.google.colaboratory.intrinsic+json": {
              "type": "string"
            }
          },
          "metadata": {},
          "execution_count": 1
        }
      ]
    },
    {
      "cell_type": "markdown",
      "source": [
        "## Introduction to tensors"
      ],
      "metadata": {
        "id": "sfOC_XshVhDL"
      }
    },
    {
      "cell_type": "markdown",
      "source": [
        "### creating tensors"
      ],
      "metadata": {
        "id": "-9wklvVzVn4K"
      }
    },
    {
      "cell_type": "markdown",
      "source": [
        "#### tensors types"
      ],
      "metadata": {
        "id": "yjoTTW15k_xm"
      }
    },
    {
      "cell_type": "code",
      "source": [
        "# scalar\n",
        "scalar = torch.tensor(7)\n",
        "scalar"
      ],
      "metadata": {
        "colab": {
          "base_uri": "https://localhost:8080/"
        },
        "id": "4SwTNMpsVnku",
        "outputId": "088e8d02-62b5-4ee0-9f2c-90025bc667e4"
      },
      "execution_count": null,
      "outputs": [
        {
          "output_type": "execute_result",
          "data": {
            "text/plain": [
              "tensor(7)"
            ]
          },
          "metadata": {},
          "execution_count": 2
        }
      ]
    },
    {
      "cell_type": "code",
      "source": [
        "scalar.ndim"
      ],
      "metadata": {
        "colab": {
          "base_uri": "https://localhost:8080/"
        },
        "id": "uNP4QPxyUoAL",
        "outputId": "d17c4c0f-4987-4bd0-f02c-22c0b8b41749"
      },
      "execution_count": null,
      "outputs": [
        {
          "output_type": "execute_result",
          "data": {
            "text/plain": [
              "0"
            ]
          },
          "metadata": {},
          "execution_count": 3
        }
      ]
    },
    {
      "cell_type": "code",
      "source": [
        "scalar.item()"
      ],
      "metadata": {
        "colab": {
          "base_uri": "https://localhost:8080/"
        },
        "id": "XuQHaOJ4WlG8",
        "outputId": "9f60ff01-59e3-4ba3-dfbe-83963e44c177"
      },
      "execution_count": null,
      "outputs": [
        {
          "output_type": "execute_result",
          "data": {
            "text/plain": [
              "7"
            ]
          },
          "metadata": {},
          "execution_count": 12
        }
      ]
    },
    {
      "cell_type": "code",
      "source": [
        "# vector\n",
        "vector = torch.tensor([7,7,7])\n",
        "vector"
      ],
      "metadata": {
        "colab": {
          "base_uri": "https://localhost:8080/"
        },
        "id": "uw8Lxg5ZW7on",
        "outputId": "5b4534f1-102e-48eb-86b0-62613deb7272"
      },
      "execution_count": null,
      "outputs": [
        {
          "output_type": "execute_result",
          "data": {
            "text/plain": [
              "tensor([7, 7, 7])"
            ]
          },
          "metadata": {},
          "execution_count": 25
        }
      ]
    },
    {
      "cell_type": "code",
      "source": [
        "vector.ndim"
      ],
      "metadata": {
        "colab": {
          "base_uri": "https://localhost:8080/"
        },
        "id": "tArvBbiPXjfW",
        "outputId": "83e37c8b-b17d-4f00-93bb-e2d916b9a2eb"
      },
      "execution_count": null,
      "outputs": [
        {
          "output_type": "execute_result",
          "data": {
            "text/plain": [
              "1"
            ]
          },
          "metadata": {},
          "execution_count": 28
        }
      ]
    },
    {
      "cell_type": "code",
      "source": [
        "vector.shape"
      ],
      "metadata": {
        "colab": {
          "base_uri": "https://localhost:8080/"
        },
        "id": "k7Vhw0uLXjcD",
        "outputId": "1e4e2fd5-d386-4693-eb34-3a3789028f45"
      },
      "execution_count": null,
      "outputs": [
        {
          "output_type": "execute_result",
          "data": {
            "text/plain": [
              "torch.Size([3])"
            ]
          },
          "metadata": {},
          "execution_count": 29
        }
      ]
    },
    {
      "cell_type": "code",
      "source": [
        "# matrix\n",
        "matrix = torch.tensor([[7,7,7],[6,6,6]])\n",
        "matrix"
      ],
      "metadata": {
        "colab": {
          "base_uri": "https://localhost:8080/"
        },
        "id": "n_wEwQXBXjYR",
        "outputId": "7a934bbd-67c2-4c35-e328-cc3101abb3ce"
      },
      "execution_count": null,
      "outputs": [
        {
          "output_type": "execute_result",
          "data": {
            "text/plain": [
              "tensor([[7, 7, 7],\n",
              "        [6, 6, 6]])"
            ]
          },
          "metadata": {},
          "execution_count": 31
        }
      ]
    },
    {
      "cell_type": "code",
      "source": [
        "matrix.ndim"
      ],
      "metadata": {
        "colab": {
          "base_uri": "https://localhost:8080/"
        },
        "id": "h_vMqAvlXjVq",
        "outputId": "c419b88f-f9d6-4a45-f0ae-6c551f401633"
      },
      "execution_count": null,
      "outputs": [
        {
          "output_type": "execute_result",
          "data": {
            "text/plain": [
              "2"
            ]
          },
          "metadata": {},
          "execution_count": 32
        }
      ]
    },
    {
      "cell_type": "code",
      "source": [
        "matrix.shape"
      ],
      "metadata": {
        "colab": {
          "base_uri": "https://localhost:8080/"
        },
        "id": "z3JVEp74XjS6",
        "outputId": "d869868a-bec7-4d19-e6a8-804ec6784186"
      },
      "execution_count": null,
      "outputs": [
        {
          "output_type": "execute_result",
          "data": {
            "text/plain": [
              "torch.Size([2, 3])"
            ]
          },
          "metadata": {},
          "execution_count": 33
        }
      ]
    },
    {
      "cell_type": "code",
      "source": [
        "# Tensor\n",
        "tens = torch.tensor([[[1,2,3],[2,4,5],[7,7,7],[1,1,1]],[[1,1,1],[2,4,5],[7,7,7],[1,1,1]]])\n",
        "tens"
      ],
      "metadata": {
        "colab": {
          "base_uri": "https://localhost:8080/"
        },
        "id": "58Bx9_VgiyXC",
        "outputId": "218b4601-b526-4736-a891-ac0f7e0db753"
      },
      "execution_count": null,
      "outputs": [
        {
          "output_type": "execute_result",
          "data": {
            "text/plain": [
              "tensor([[[1, 2, 3],\n",
              "         [2, 4, 5],\n",
              "         [7, 7, 7],\n",
              "         [1, 1, 1]],\n",
              "\n",
              "        [[1, 1, 1],\n",
              "         [2, 4, 5],\n",
              "         [7, 7, 7],\n",
              "         [1, 1, 1]]])"
            ]
          },
          "metadata": {},
          "execution_count": 43
        }
      ]
    },
    {
      "cell_type": "code",
      "source": [
        "tens.ndim"
      ],
      "metadata": {
        "colab": {
          "base_uri": "https://localhost:8080/"
        },
        "id": "upcYK0d4jp4k",
        "outputId": "ab4b912a-1b30-4644-e763-13d4d8f81af3"
      },
      "execution_count": null,
      "outputs": [
        {
          "output_type": "execute_result",
          "data": {
            "text/plain": [
              "3"
            ]
          },
          "metadata": {},
          "execution_count": 44
        }
      ]
    },
    {
      "cell_type": "code",
      "source": [
        "tens.shape"
      ],
      "metadata": {
        "colab": {
          "base_uri": "https://localhost:8080/"
        },
        "id": "6L0qEWpJjrHf",
        "outputId": "4acd9f40-ed7e-4f18-9572-2c7e5df36507"
      },
      "execution_count": null,
      "outputs": [
        {
          "output_type": "execute_result",
          "data": {
            "text/plain": [
              "torch.Size([2, 4, 3])"
            ]
          },
          "metadata": {},
          "execution_count": 45
        }
      ]
    },
    {
      "cell_type": "markdown",
      "source": [
        "#### random tensors"
      ],
      "metadata": {
        "id": "mA0oPFc0k7Ks"
      }
    },
    {
      "cell_type": "code",
      "source": [
        "# create random tensor\n",
        "rand_tens = torch.rand(1,3,4)\n",
        "rand_tens, rand_tens.shape, rand_tens.dtype"
      ],
      "metadata": {
        "colab": {
          "base_uri": "https://localhost:8080/"
        },
        "id": "T4L2p3u9jzS-",
        "outputId": "c9563daf-e774-41a2-cb39-1e7a748390b0"
      },
      "execution_count": null,
      "outputs": [
        {
          "output_type": "execute_result",
          "data": {
            "text/plain": [
              "(tensor([[[0.2906, 0.7673, 0.5308, 0.5179],\n",
              "          [0.5774, 0.7657, 0.4863, 0.3077],\n",
              "          [0.3321, 0.3608, 0.7822, 0.3400]]]),\n",
              " torch.Size([1, 3, 4]),\n",
              " torch.float32)"
            ]
          },
          "metadata": {},
          "execution_count": 16
        }
      ]
    },
    {
      "cell_type": "code",
      "source": [
        "# create tensor with zeros\n",
        "zero_tensor = torch.zeros(3,4)\n",
        "zero_tensor, zero_tensor.shape"
      ],
      "metadata": {
        "colab": {
          "base_uri": "https://localhost:8080/"
        },
        "id": "32nB_e9rjHyf",
        "outputId": "7727accf-d9bc-4fd3-cf60-247e4620f5a5"
      },
      "execution_count": null,
      "outputs": [
        {
          "output_type": "execute_result",
          "data": {
            "text/plain": [
              "(tensor([[0., 0., 0., 0.],\n",
              "         [0., 0., 0., 0.],\n",
              "         [0., 0., 0., 0.]]), torch.Size([3, 4]))"
            ]
          },
          "metadata": {},
          "execution_count": 6
        }
      ]
    },
    {
      "cell_type": "code",
      "source": [
        "# creating tensors with ones\n",
        "ones_tensor = torch.ones(3,4)\n",
        "ones_tensor, ones_tensor.shape"
      ],
      "metadata": {
        "colab": {
          "base_uri": "https://localhost:8080/"
        },
        "id": "KeBpHPp5k3vX",
        "outputId": "8c4b562c-1fa0-4788-e856-2d689a9946ae"
      },
      "execution_count": null,
      "outputs": [
        {
          "output_type": "execute_result",
          "data": {
            "text/plain": [
              "(tensor([[1., 1., 1., 1.],\n",
              "         [1., 1., 1., 1.],\n",
              "         [1., 1., 1., 1.]]), torch.Size([3, 4]))"
            ]
          },
          "metadata": {},
          "execution_count": 7
        }
      ]
    },
    {
      "cell_type": "code",
      "source": [
        "# create zero tensor from other tensor\n",
        "torch.zeros_like(ones_tensor)"
      ],
      "metadata": {
        "colab": {
          "base_uri": "https://localhost:8080/"
        },
        "id": "3PkUxAT3mKYu",
        "outputId": "61c5dd6f-cd4e-4d30-ff01-d5874da8c475"
      },
      "execution_count": null,
      "outputs": [
        {
          "output_type": "execute_result",
          "data": {
            "text/plain": [
              "tensor([[0., 0., 0., 0.],\n",
              "        [0., 0., 0., 0.],\n",
              "        [0., 0., 0., 0.]])"
            ]
          },
          "metadata": {},
          "execution_count": 12
        }
      ]
    },
    {
      "cell_type": "code",
      "source": [
        "# create range of tensors\n",
        "torch.arange(1,10,1)"
      ],
      "metadata": {
        "colab": {
          "base_uri": "https://localhost:8080/"
        },
        "id": "qSzxq597muqr",
        "outputId": "9ee5ac12-cf4e-4536-9cad-5c402cd06fee"
      },
      "execution_count": null,
      "outputs": [
        {
          "output_type": "execute_result",
          "data": {
            "text/plain": [
              "tensor([1, 2, 3, 4, 5, 6, 7, 8, 9])"
            ]
          },
          "metadata": {},
          "execution_count": 15
        }
      ]
    },
    {
      "cell_type": "code",
      "source": [
        "# create tensor with float16 dtype\n",
        "fp16_tensor = torch.rand(2,2,dtype=torch.float16)\n",
        "fp16_tensor"
      ],
      "metadata": {
        "colab": {
          "base_uri": "https://localhost:8080/"
        },
        "id": "7Icpw5mgm64X",
        "outputId": "fa4d0105-0df7-4a7b-eade-c3619b2eeaeb"
      },
      "execution_count": null,
      "outputs": [
        {
          "output_type": "execute_result",
          "data": {
            "text/plain": [
              "tensor([[0.6646, 0.8130],\n",
              "        [0.6865, 0.1909]], dtype=torch.float16)"
            ]
          },
          "metadata": {},
          "execution_count": 20
        }
      ]
    },
    {
      "cell_type": "code",
      "source": [
        "# convert tensor datatype\n",
        "fp32_tensor = fp16_tensor.type(torch.float32)\n",
        "fp32_tensor, fp32_tensor.dtype"
      ],
      "metadata": {
        "colab": {
          "base_uri": "https://localhost:8080/"
        },
        "id": "w3sSkH0Mzkcu",
        "outputId": "c64f2789-ece3-475b-b1da-f6f62fdcd0f3"
      },
      "execution_count": null,
      "outputs": [
        {
          "output_type": "execute_result",
          "data": {
            "text/plain": [
              "(tensor([[0.6646, 0.8130],\n",
              "         [0.6865, 0.1909]]), torch.float32)"
            ]
          },
          "metadata": {},
          "execution_count": 22
        }
      ]
    },
    {
      "cell_type": "code",
      "source": [
        "fp32_tensor * fp16_tensor"
      ],
      "metadata": {
        "colab": {
          "base_uri": "https://localhost:8080/"
        },
        "id": "y-_6kf7N13uh",
        "outputId": "30809db3-d41b-4678-a03b-db7385d8e2d6"
      },
      "execution_count": null,
      "outputs": [
        {
          "output_type": "execute_result",
          "data": {
            "text/plain": [
              "tensor([[0.4416, 0.6609],\n",
              "        [0.4713, 0.0364]])"
            ]
          },
          "metadata": {},
          "execution_count": 23
        }
      ]
    },
    {
      "cell_type": "markdown",
      "source": [
        "## tensor operations"
      ],
      "metadata": {
        "id": "N3If1SpeTAl7"
      }
    },
    {
      "cell_type": "code",
      "source": [
        "tensor = torch.tensor([[2,3],[1,2]], dtype=torch.int32)\n",
        "tensor"
      ],
      "metadata": {
        "colab": {
          "base_uri": "https://localhost:8080/"
        },
        "id": "WqRe5DyJTAcY",
        "outputId": "d33ef3fa-0925-4798-c4ae-26f334fe2f27"
      },
      "execution_count": null,
      "outputs": [
        {
          "output_type": "execute_result",
          "data": {
            "text/plain": [
              "tensor([[2, 3],\n",
              "        [1, 2]], dtype=torch.int32)"
            ]
          },
          "metadata": {},
          "execution_count": 29
        }
      ]
    },
    {
      "cell_type": "code",
      "source": [
        "# addition\n",
        "tensor + 10"
      ],
      "metadata": {
        "colab": {
          "base_uri": "https://localhost:8080/"
        },
        "id": "AjVaLgI5TAZc",
        "outputId": "b98bce13-123d-4183-a7d4-81b8a9ec6e83"
      },
      "execution_count": null,
      "outputs": [
        {
          "output_type": "execute_result",
          "data": {
            "text/plain": [
              "tensor([[12, 13],\n",
              "        [11, 12]], dtype=torch.int32)"
            ]
          },
          "metadata": {},
          "execution_count": 14
        }
      ]
    },
    {
      "cell_type": "code",
      "source": [
        "torch.add(tensor, 10)"
      ],
      "metadata": {
        "colab": {
          "base_uri": "https://localhost:8080/"
        },
        "id": "N_2HyyNoUJjc",
        "outputId": "0370a990-87df-43de-916f-cb50d0a74ed4"
      },
      "execution_count": null,
      "outputs": [
        {
          "output_type": "execute_result",
          "data": {
            "text/plain": [
              "tensor([[12, 13],\n",
              "        [11, 12]], dtype=torch.int32)"
            ]
          },
          "metadata": {},
          "execution_count": 15
        }
      ]
    },
    {
      "cell_type": "code",
      "source": [
        "torch.add(tensor, tensor)"
      ],
      "metadata": {
        "colab": {
          "base_uri": "https://localhost:8080/"
        },
        "id": "9NkQrot3beuU",
        "outputId": "c71cb7cf-d1c3-412a-cb95-6cc676d7ca41"
      },
      "execution_count": null,
      "outputs": [
        {
          "output_type": "execute_result",
          "data": {
            "text/plain": [
              "tensor([[4, 6],\n",
              "        [2, 4]], dtype=torch.int32)"
            ]
          },
          "metadata": {},
          "execution_count": 56
        }
      ]
    },
    {
      "cell_type": "code",
      "source": [
        "# subtraction\n",
        "tensor - 10"
      ],
      "metadata": {
        "colab": {
          "base_uri": "https://localhost:8080/"
        },
        "id": "LkufskWRTAXk",
        "outputId": "c1185cb3-4979-422d-858f-33e7d1646a25"
      },
      "execution_count": null,
      "outputs": [
        {
          "output_type": "execute_result",
          "data": {
            "text/plain": [
              "tensor([[-8, -7],\n",
              "        [-9, -8]], dtype=torch.int32)"
            ]
          },
          "metadata": {},
          "execution_count": 16
        }
      ]
    },
    {
      "cell_type": "code",
      "source": [
        "torch.sub(tensor, 10)"
      ],
      "metadata": {
        "colab": {
          "base_uri": "https://localhost:8080/"
        },
        "id": "ISlos5lVUNnY",
        "outputId": "8bfca297-3756-4e63-94d0-b4354fc248d6"
      },
      "execution_count": null,
      "outputs": [
        {
          "output_type": "execute_result",
          "data": {
            "text/plain": [
              "tensor([[-8, -7],\n",
              "        [-9, -8]], dtype=torch.int32)"
            ]
          },
          "metadata": {},
          "execution_count": 17
        }
      ]
    },
    {
      "cell_type": "code",
      "source": [
        "# multiplication\n",
        "tensor * 10"
      ],
      "metadata": {
        "colab": {
          "base_uri": "https://localhost:8080/"
        },
        "id": "1IQsbmtxTAVj",
        "outputId": "d96a577c-6b6b-426d-d02c-12647444f2a0"
      },
      "execution_count": null,
      "outputs": [
        {
          "output_type": "execute_result",
          "data": {
            "text/plain": [
              "tensor([[20, 30],\n",
              "        [10, 20]], dtype=torch.int32)"
            ]
          },
          "metadata": {},
          "execution_count": 18
        }
      ]
    },
    {
      "cell_type": "code",
      "source": [
        "torch.mul(tensor,10)"
      ],
      "metadata": {
        "colab": {
          "base_uri": "https://localhost:8080/"
        },
        "id": "wszMcqS8UQoc",
        "outputId": "0a1b6d45-384d-4771-e48b-1adce1b2cfe8"
      },
      "execution_count": null,
      "outputs": [
        {
          "output_type": "execute_result",
          "data": {
            "text/plain": [
              "tensor([[20, 30],\n",
              "        [10, 20]], dtype=torch.int32)"
            ]
          },
          "metadata": {},
          "execution_count": 19
        }
      ]
    },
    {
      "cell_type": "code",
      "source": [
        "# division\n",
        "tensor / 2"
      ],
      "metadata": {
        "colab": {
          "base_uri": "https://localhost:8080/"
        },
        "id": "vahnQ_9eTAS7",
        "outputId": "199499a9-ccc3-4fad-eb14-98bc7dc28759"
      },
      "execution_count": null,
      "outputs": [
        {
          "output_type": "execute_result",
          "data": {
            "text/plain": [
              "tensor([[1.0000, 1.5000],\n",
              "        [0.5000, 1.0000]])"
            ]
          },
          "metadata": {},
          "execution_count": 20
        }
      ]
    },
    {
      "cell_type": "code",
      "source": [
        "torch.div(tensor, 2)"
      ],
      "metadata": {
        "colab": {
          "base_uri": "https://localhost:8080/"
        },
        "id": "klXM6iV5TAQV",
        "outputId": "f733c5d4-86d3-45d5-c50a-17c8ae2c6d1d"
      },
      "execution_count": null,
      "outputs": [
        {
          "output_type": "execute_result",
          "data": {
            "text/plain": [
              "tensor([[1.0000, 1.5000],\n",
              "        [0.5000, 1.0000]])"
            ]
          },
          "metadata": {},
          "execution_count": 21
        }
      ]
    },
    {
      "cell_type": "code",
      "source": [
        "# matrix multiplication using torch.matmul\n",
        "tensor1 = torch.tensor([[1,2,3],[3,2,1]])\n",
        "print(\"tensor1 shape - \",tensor1.shape)\n",
        "tensor2 = torch.tensor([[1,2],[2,3],[3,1]])\n",
        "print(\"tensor2 shape - \",tensor2.shape)\n",
        "print(\"matrix multiplication output\\n\",torch.matmul(tensor1,tensor2))"
      ],
      "metadata": {
        "colab": {
          "base_uri": "https://localhost:8080/"
        },
        "id": "MAoRwaMKTANr",
        "outputId": "67172424-3ee0-4c6b-b210-d8df663f1f81"
      },
      "execution_count": null,
      "outputs": [
        {
          "output_type": "stream",
          "name": "stdout",
          "text": [
            "tensor1 shape -  torch.Size([2, 3])\n",
            "tensor2 shape -  torch.Size([3, 2])\n",
            "matrix multiplication output\n",
            " tensor([[14, 11],\n",
            "        [10, 13]])\n"
          ]
        }
      ]
    },
    {
      "cell_type": "code",
      "source": [
        "# matrix multiplication using torch.mm\n",
        "torch.mm(tensor1,tensor1.T)"
      ],
      "metadata": {
        "id": "M5f9mpyQ2GNw",
        "colab": {
          "base_uri": "https://localhost:8080/"
        },
        "outputId": "5cab1d02-79f8-4add-d466-36c82a9939bb"
      },
      "execution_count": null,
      "outputs": [
        {
          "output_type": "execute_result",
          "data": {
            "text/plain": [
              "tensor([[14, 10],\n",
              "        [10, 14]])"
            ]
          },
          "metadata": {},
          "execution_count": 33
        }
      ]
    },
    {
      "cell_type": "code",
      "source": [
        "# Finding min, max,mean, sum etc (tensor aggregation)\n",
        "x=torch.arange(1,10,2)  # by default torch.arange will create tensor with int64 dtype\n",
        "x, x.dtype"
      ],
      "metadata": {
        "colab": {
          "base_uri": "https://localhost:8080/"
        },
        "id": "B_scq8jmYYnN",
        "outputId": "68d33dcf-a136-4671-e357-a96bb02bb2f7"
      },
      "execution_count": null,
      "outputs": [
        {
          "output_type": "execute_result",
          "data": {
            "text/plain": [
              "(tensor([1, 3, 5, 7, 9]), torch.int64)"
            ]
          },
          "metadata": {},
          "execution_count": 47
        }
      ]
    },
    {
      "cell_type": "code",
      "source": [
        "# minimum value in tensor\n",
        "torch.min(x), x.min()"
      ],
      "metadata": {
        "colab": {
          "base_uri": "https://localhost:8080/"
        },
        "id": "DoPQqMNNYYh_",
        "outputId": "11f4e3de-e8fc-41b3-c24e-370c877691a2"
      },
      "execution_count": null,
      "outputs": [
        {
          "output_type": "execute_result",
          "data": {
            "text/plain": [
              "(tensor(1), tensor(1))"
            ]
          },
          "metadata": {},
          "execution_count": 46
        }
      ]
    },
    {
      "cell_type": "code",
      "source": [
        "# maximum value in tensor\n",
        "torch.max(x), x.max()"
      ],
      "metadata": {
        "colab": {
          "base_uri": "https://localhost:8080/"
        },
        "id": "5VUWmX5oYYfe",
        "outputId": "cac98dbd-9eb2-446c-abe4-e5398ca9291d"
      },
      "execution_count": null,
      "outputs": [
        {
          "output_type": "execute_result",
          "data": {
            "text/plain": [
              "(tensor(9), tensor(9))"
            ]
          },
          "metadata": {},
          "execution_count": 48
        }
      ]
    },
    {
      "cell_type": "code",
      "source": [
        "# mean value in tensor. Note: torch.mean function require dtype of float32\n",
        "torch.mean(x.type(torch.float32)), x.type(torch.float32).mean()"
      ],
      "metadata": {
        "colab": {
          "base_uri": "https://localhost:8080/"
        },
        "id": "PilfswhIYYXU",
        "outputId": "cfb95813-369f-43d8-efc3-00975b0227f8"
      },
      "execution_count": null,
      "outputs": [
        {
          "output_type": "execute_result",
          "data": {
            "text/plain": [
              "(tensor(5.), tensor(5.))"
            ]
          },
          "metadata": {},
          "execution_count": 52
        }
      ]
    },
    {
      "cell_type": "code",
      "source": [
        "# sum of tensor\n",
        "torch.sum(x), x.sum()"
      ],
      "metadata": {
        "colab": {
          "base_uri": "https://localhost:8080/"
        },
        "id": "pRnB9jNWYYUp",
        "outputId": "bc559941-0305-4be4-95ec-5394afdd45d6"
      },
      "execution_count": null,
      "outputs": [
        {
          "output_type": "execute_result",
          "data": {
            "text/plain": [
              "(tensor(25), tensor(25))"
            ]
          },
          "metadata": {},
          "execution_count": 53
        }
      ]
    },
    {
      "cell_type": "code",
      "source": [
        "# finding positions of min and max\n",
        "x.argmin(), x.argmax()"
      ],
      "metadata": {
        "colab": {
          "base_uri": "https://localhost:8080/"
        },
        "id": "UXkgRfAEYYOD",
        "outputId": "62783679-20a9-4daf-949e-31342f5aac9f"
      },
      "execution_count": null,
      "outputs": [
        {
          "output_type": "execute_result",
          "data": {
            "text/plain": [
              "(tensor(0), tensor(4))"
            ]
          },
          "metadata": {},
          "execution_count": 59
        }
      ]
    },
    {
      "cell_type": "markdown",
      "source": [
        "## reshaping, stacking, squeezing and unsqueezing permute"
      ],
      "metadata": {
        "id": "Ip-8stjVdDnu"
      }
    },
    {
      "cell_type": "code",
      "source": [
        "x = torch.arange(1,20,2)\n",
        "x, x.shape"
      ],
      "metadata": {
        "id": "1bKX-5gEYYHX",
        "colab": {
          "base_uri": "https://localhost:8080/"
        },
        "outputId": "c57cb4c2-99aa-4480-bbde-6b25d69a4df5"
      },
      "execution_count": null,
      "outputs": [
        {
          "output_type": "execute_result",
          "data": {
            "text/plain": [
              "(tensor([ 1,  3,  5,  7,  9, 11, 13, 15, 17, 19]), torch.Size([10]))"
            ]
          },
          "metadata": {},
          "execution_count": 50
        }
      ]
    },
    {
      "cell_type": "code",
      "source": [
        "# add extra dimension using reshape\n",
        "x_reshaped = x.reshape(1,2,5)\n",
        "x_reshaped,x_reshaped.shape"
      ],
      "metadata": {
        "id": "5-EjDTNGYX_o",
        "colab": {
          "base_uri": "https://localhost:8080/"
        },
        "outputId": "17b7bcd1-e95c-4ed2-abcf-350abdcaac87"
      },
      "execution_count": null,
      "outputs": [
        {
          "output_type": "execute_result",
          "data": {
            "text/plain": [
              "(tensor([[[ 1,  3,  5,  7,  9],\n",
              "          [11, 13, 15, 17, 19]]]), torch.Size([1, 2, 5]))"
            ]
          },
          "metadata": {},
          "execution_count": 51
        }
      ]
    },
    {
      "cell_type": "code",
      "source": [
        "#x[1] = 3\n",
        "x_reshaped[:,0,0] = 1\n",
        "x,x_reshaped"
      ],
      "metadata": {
        "colab": {
          "base_uri": "https://localhost:8080/"
        },
        "id": "FctCD9pkSKWP",
        "outputId": "83560daa-1eb8-4053-eab9-713a02842d34"
      },
      "execution_count": null,
      "outputs": [
        {
          "output_type": "execute_result",
          "data": {
            "text/plain": [
              "(tensor([ 1,  3,  5,  7,  9, 11, 13, 15, 17, 19]),\n",
              " tensor([[[ 1,  3,  5,  7,  9],\n",
              "          [11, 13, 15, 17, 19]]]))"
            ]
          },
          "metadata": {},
          "execution_count": 54
        }
      ]
    },
    {
      "cell_type": "code",
      "source": [
        "# Change the view i.e., view of a tensor share same memory as original\n",
        "z = x.view(1,10)\n",
        "z, z.shape"
      ],
      "metadata": {
        "id": "bqbUs_9jYX9p",
        "colab": {
          "base_uri": "https://localhost:8080/"
        },
        "outputId": "73cbf5df-2713-49c0-f67d-d1e04f97399c"
      },
      "execution_count": null,
      "outputs": [
        {
          "output_type": "execute_result",
          "data": {
            "text/plain": [
              "(tensor([[ 1,  3,  5,  7,  9, 11, 13, 15, 17, 19]]), torch.Size([1, 10]))"
            ]
          },
          "metadata": {},
          "execution_count": 17
        }
      ]
    },
    {
      "cell_type": "code",
      "source": [
        "# validate view with original after changing elements\n",
        "z[:,0] = 0\n",
        "z, x"
      ],
      "metadata": {
        "id": "veiWwa21YX7K",
        "colab": {
          "base_uri": "https://localhost:8080/"
        },
        "outputId": "90e3a897-6ca6-4dc5-ae2a-fa054d326fd3"
      },
      "execution_count": null,
      "outputs": [
        {
          "output_type": "execute_result",
          "data": {
            "text/plain": [
              "(tensor([[ 0,  3,  5,  7,  9, 11, 13, 15, 17, 19]]),\n",
              " tensor([ 0,  3,  5,  7,  9, 11, 13, 15, 17, 19]))"
            ]
          },
          "metadata": {},
          "execution_count": 22
        }
      ]
    },
    {
      "cell_type": "code",
      "source": [
        "# stacking on tensors\n",
        "x_stacked = torch.stack([x,x,x,x],dim=1)\n",
        "x, x_stacked,x_stacked.shape"
      ],
      "metadata": {
        "id": "FJg-MrulYX1a",
        "colab": {
          "base_uri": "https://localhost:8080/"
        },
        "outputId": "15221a2f-736b-4d09-82b1-7ae3377b2c38"
      },
      "execution_count": null,
      "outputs": [
        {
          "output_type": "execute_result",
          "data": {
            "text/plain": [
              "(tensor([ 0,  3,  5,  7,  9, 11, 13, 15, 17, 19]), tensor([[ 0,  0,  0,  0],\n",
              "         [ 3,  3,  3,  3],\n",
              "         [ 5,  5,  5,  5],\n",
              "         [ 7,  7,  7,  7],\n",
              "         [ 9,  9,  9,  9],\n",
              "         [11, 11, 11, 11],\n",
              "         [13, 13, 13, 13],\n",
              "         [15, 15, 15, 15],\n",
              "         [17, 17, 17, 17],\n",
              "         [19, 19, 19, 19]]), torch.Size([10, 4]))"
            ]
          },
          "metadata": {},
          "execution_count": 28
        }
      ]
    },
    {
      "cell_type": "code",
      "source": [
        "# vstack \n",
        "x_vstack = torch.vstack([x,x,x,x])\n",
        "x_vstack, x_vstack.shape"
      ],
      "metadata": {
        "id": "0ehfbeeLYXy1",
        "colab": {
          "base_uri": "https://localhost:8080/"
        },
        "outputId": "be01867a-5f3a-46c9-938b-4542625cdca5"
      },
      "execution_count": null,
      "outputs": [
        {
          "output_type": "execute_result",
          "data": {
            "text/plain": [
              "(tensor([[ 0,  3,  5,  7,  9, 11, 13, 15, 17, 19],\n",
              "         [ 0,  3,  5,  7,  9, 11, 13, 15, 17, 19],\n",
              "         [ 0,  3,  5,  7,  9, 11, 13, 15, 17, 19],\n",
              "         [ 0,  3,  5,  7,  9, 11, 13, 15, 17, 19]]), torch.Size([4, 10]))"
            ]
          },
          "metadata": {},
          "execution_count": 26
        }
      ]
    },
    {
      "cell_type": "code",
      "source": [
        "# hstack\n",
        "x_hstack = torch.hstack((x,x))\n",
        "x_hstack, x_hstack.shape"
      ],
      "metadata": {
        "id": "1P6s8FfzYXwg",
        "colab": {
          "base_uri": "https://localhost:8080/"
        },
        "outputId": "e05b1405-5949-4f8c-bb84-a327b1dc9d6c"
      },
      "execution_count": null,
      "outputs": [
        {
          "output_type": "execute_result",
          "data": {
            "text/plain": [
              "(tensor([ 0,  3,  5,  7,  9, 11, 13, 15, 17, 19,  0,  3,  5,  7,  9, 11, 13, 15,\n",
              "         17, 19]), torch.Size([20]))"
            ]
          },
          "metadata": {},
          "execution_count": 29
        }
      ]
    },
    {
      "cell_type": "code",
      "source": [
        "a = torch.tensor([[1],[2],[3]])\n",
        "b = torch.tensor([[4],[5],[6]])\n",
        "vstack=torch.vstack([a,b])\n",
        "vstack,vstack.shape"
      ],
      "metadata": {
        "id": "0zPZCJDWYXuJ",
        "colab": {
          "base_uri": "https://localhost:8080/"
        },
        "outputId": "08390df7-7bbd-4c34-a1b5-56f290b0b150"
      },
      "execution_count": null,
      "outputs": [
        {
          "output_type": "execute_result",
          "data": {
            "text/plain": [
              "(tensor([[1],\n",
              "         [2],\n",
              "         [3],\n",
              "         [4],\n",
              "         [5],\n",
              "         [6]]), torch.Size([6, 1]))"
            ]
          },
          "metadata": {},
          "execution_count": 38
        }
      ]
    },
    {
      "cell_type": "code",
      "source": [
        "hstack= torch.hstack([a,b])\n",
        "hstack,hstack.shape"
      ],
      "metadata": {
        "colab": {
          "base_uri": "https://localhost:8080/"
        },
        "id": "AlqO_IejRRS5",
        "outputId": "c3910355-9932-4b3d-b204-44e429e42e08"
      },
      "execution_count": null,
      "outputs": [
        {
          "output_type": "execute_result",
          "data": {
            "text/plain": [
              "(tensor([[1, 4],\n",
              "         [2, 5],\n",
              "         [3, 6]]), torch.Size([3, 2]))"
            ]
          },
          "metadata": {},
          "execution_count": 39
        }
      ]
    },
    {
      "cell_type": "code",
      "source": [
        "# torch.squeeze() -  removes all single dimension from tensor\n",
        "print(x_reshaped.shape)\n",
        "x_squeeze = x_reshaped.squeeze()\n",
        "x_squeeze, x_squeeze.shape"
      ],
      "metadata": {
        "colab": {
          "base_uri": "https://localhost:8080/"
        },
        "id": "wHwx15mYRhLC",
        "outputId": "82099053-bcd5-4283-ddfc-c75ebe2231f1"
      },
      "execution_count": null,
      "outputs": [
        {
          "output_type": "stream",
          "name": "stdout",
          "text": [
            "torch.Size([1, 2, 5])\n"
          ]
        },
        {
          "output_type": "execute_result",
          "data": {
            "text/plain": [
              "(tensor([[ 1,  3,  5,  7,  9],\n",
              "         [11, 13, 15, 17, 19]]), torch.Size([2, 5]))"
            ]
          },
          "metadata": {},
          "execution_count": 58
        }
      ]
    },
    {
      "cell_type": "code",
      "source": [
        "# torch.unsqueeze() -  adds single dimension to tensor at specific dim\n",
        "print(x_squeeze.shape)\n",
        "x_unsqueeze = x_squeeze.unsqueeze(dim=1)\n",
        "x_unsqueeze, x_unsqueeze.shape"
      ],
      "metadata": {
        "colab": {
          "base_uri": "https://localhost:8080/"
        },
        "id": "wmj0ZqGyUn7a",
        "outputId": "6cc76434-9518-4f79-fd6d-59907ed58d79"
      },
      "execution_count": null,
      "outputs": [
        {
          "output_type": "stream",
          "name": "stdout",
          "text": [
            "torch.Size([2, 5])\n"
          ]
        },
        {
          "output_type": "execute_result",
          "data": {
            "text/plain": [
              "(tensor([[[ 1,  3,  5,  7,  9]],\n",
              " \n",
              "         [[11, 13, 15, 17, 19]]]), torch.Size([2, 1, 5]))"
            ]
          },
          "metadata": {},
          "execution_count": 70
        }
      ]
    },
    {
      "cell_type": "code",
      "source": [
        "# torch.permute - rearrange the dimensions of a tensor in a specified manner\n",
        "print(x_unsqueeze.shape)\n",
        "x_permuted = x_unsqueeze.permute(dims=(2,1,0))\n",
        "x_permuted,x_permuted.shape"
      ],
      "metadata": {
        "colab": {
          "base_uri": "https://localhost:8080/"
        },
        "id": "gcKDqE70Vb_4",
        "outputId": "34cde08d-89d4-46b5-9e57-2d552f8e51e3"
      },
      "execution_count": null,
      "outputs": [
        {
          "output_type": "stream",
          "name": "stdout",
          "text": [
            "torch.Size([2, 1, 5])\n"
          ]
        },
        {
          "output_type": "execute_result",
          "data": {
            "text/plain": [
              "(tensor([[[ 1, 11]],\n",
              " \n",
              "         [[ 3, 13]],\n",
              " \n",
              "         [[ 5, 15]],\n",
              " \n",
              "         [[ 7, 17]],\n",
              " \n",
              "         [[ 9, 19]]]), torch.Size([5, 1, 2]))"
            ]
          },
          "metadata": {},
          "execution_count": 73
        }
      ]
    },
    {
      "cell_type": "code",
      "source": [
        "# indexing\n",
        "x_permuted[:,0,0]"
      ],
      "metadata": {
        "colab": {
          "base_uri": "https://localhost:8080/"
        },
        "id": "1QsKpugVW8pJ",
        "outputId": "52497248-9c46-4b28-ac8f-64ca136c090d"
      },
      "execution_count": null,
      "outputs": [
        {
          "output_type": "execute_result",
          "data": {
            "text/plain": [
              "tensor([1, 3, 5, 7, 9])"
            ]
          },
          "metadata": {},
          "execution_count": 80
        }
      ]
    },
    {
      "cell_type": "markdown",
      "source": [
        "## numpy and pytorch"
      ],
      "metadata": {
        "id": "wOp8dqr_bOGz"
      }
    },
    {
      "cell_type": "code",
      "source": [
        "# numpy array to tensor\n",
        "import numpy as np\n",
        "arr = np.arange(1.0,10.0,2.0) # by default numpy dtype is float64, but by default torch assign float32 dtype\n",
        "tensor = torch.from_numpy(arr)\n",
        "arr, tensor"
      ],
      "metadata": {
        "colab": {
          "base_uri": "https://localhost:8080/"
        },
        "id": "RaFa9REMaZ8R",
        "outputId": "1a93c43a-9152-40cd-d96c-1b5a0346609f"
      },
      "execution_count": null,
      "outputs": [
        {
          "output_type": "execute_result",
          "data": {
            "text/plain": [
              "(array([1., 3., 5., 7., 9.]),\n",
              " tensor([1., 3., 5., 7., 9.], dtype=torch.float64))"
            ]
          },
          "metadata": {},
          "execution_count": 90
        }
      ]
    },
    {
      "cell_type": "code",
      "source": [
        "tensor.type(torch.float32).dtype"
      ],
      "metadata": {
        "colab": {
          "base_uri": "https://localhost:8080/"
        },
        "id": "4AVkFAcmbgRR",
        "outputId": "5dd5fc00-67e0-4344-bf5e-82ccf10a0ccb"
      },
      "execution_count": null,
      "outputs": [
        {
          "output_type": "execute_result",
          "data": {
            "text/plain": [
              "torch.float32"
            ]
          },
          "metadata": {},
          "execution_count": 92
        }
      ]
    },
    {
      "cell_type": "code",
      "source": [
        "# tensor to numpy array\n",
        "tensor = torch.ones(5)\n",
        "numpy_tensor = tensor.numpy()\n",
        "tensor, numpy_tensor"
      ],
      "metadata": {
        "colab": {
          "base_uri": "https://localhost:8080/"
        },
        "id": "BxLrZclUcn2p",
        "outputId": "319dcd6a-2a3d-44af-c034-9dc471e30313"
      },
      "execution_count": null,
      "outputs": [
        {
          "output_type": "execute_result",
          "data": {
            "text/plain": [
              "(tensor([1., 1., 1., 1., 1.]), array([1., 1., 1., 1., 1.], dtype=float32))"
            ]
          },
          "metadata": {},
          "execution_count": 100
        }
      ]
    },
    {
      "cell_type": "markdown",
      "source": [
        "## Reproducibility"
      ],
      "metadata": {
        "id": "b11Ju8ujVabq"
      }
    },
    {
      "cell_type": "code",
      "source": [
        "# using random seed\n",
        "seed = 42\n",
        "torch.manual_seed(seed)\n",
        "tensor_A = torch.rand(3,3)\n",
        "print(tensor_A)\n",
        "torch.manual_seed(seed)\n",
        "tensor_B = torch.rand(3,3)\n",
        "print(tensor_B)\n",
        "print(tensor_A==tensor_B)"
      ],
      "metadata": {
        "id": "23x0dVvpeIJQ",
        "colab": {
          "base_uri": "https://localhost:8080/"
        },
        "outputId": "66cf422c-c44f-42b9-901e-95badabce7ee"
      },
      "execution_count": null,
      "outputs": [
        {
          "output_type": "stream",
          "name": "stdout",
          "text": [
            "tensor([[0.8823, 0.9150, 0.3829],\n",
            "        [0.9593, 0.3904, 0.6009],\n",
            "        [0.2566, 0.7936, 0.9408]])\n",
            "tensor([[0.8823, 0.9150, 0.3829],\n",
            "        [0.9593, 0.3904, 0.6009],\n",
            "        [0.2566, 0.7936, 0.9408]])\n",
            "tensor([[True, True, True],\n",
            "        [True, True, True],\n",
            "        [True, True, True]])\n"
          ]
        }
      ]
    },
    {
      "cell_type": "markdown",
      "source": [
        "## Running tensors or objects in GPUs"
      ],
      "metadata": {
        "id": "xAXdXd4rWZiE"
      }
    },
    {
      "cell_type": "code",
      "source": [
        "!nvidia-smi"
      ],
      "metadata": {
        "colab": {
          "base_uri": "https://localhost:8080/"
        },
        "id": "ypFVglDmV1ab",
        "outputId": "d23fd085-1648-44fd-8aeb-8d600c114c8b"
      },
      "execution_count": null,
      "outputs": [
        {
          "output_type": "stream",
          "name": "stdout",
          "text": [
            "Tue Feb 14 14:37:27 2023       \n",
            "+-----------------------------------------------------------------------------+\n",
            "| NVIDIA-SMI 510.47.03    Driver Version: 510.47.03    CUDA Version: 11.6     |\n",
            "|-------------------------------+----------------------+----------------------+\n",
            "| GPU  Name        Persistence-M| Bus-Id        Disp.A | Volatile Uncorr. ECC |\n",
            "| Fan  Temp  Perf  Pwr:Usage/Cap|         Memory-Usage | GPU-Util  Compute M. |\n",
            "|                               |                      |               MIG M. |\n",
            "|===============================+======================+======================|\n",
            "|   0  Tesla T4            Off  | 00000000:00:04.0 Off |                    0 |\n",
            "| N/A   61C    P0    24W /  70W |      0MiB / 15360MiB |      0%      Default |\n",
            "|                               |                      |                  N/A |\n",
            "+-------------------------------+----------------------+----------------------+\n",
            "                                                                               \n",
            "+-----------------------------------------------------------------------------+\n",
            "| Processes:                                                                  |\n",
            "|  GPU   GI   CI        PID   Type   Process name                  GPU Memory |\n",
            "|        ID   ID                                                   Usage      |\n",
            "|=============================================================================|\n",
            "|  No running processes found                                                 |\n",
            "+-----------------------------------------------------------------------------+\n"
          ]
        }
      ]
    },
    {
      "cell_type": "code",
      "source": [
        "# check gpu access in pytorch\n",
        "torch.cuda.is_available()"
      ],
      "metadata": {
        "colab": {
          "base_uri": "https://localhost:8080/"
        },
        "id": "4sYA7YZ8W-a6",
        "outputId": "8c158f5f-0c78-4b79-ee2a-87f6d73a52d8"
      },
      "execution_count": null,
      "outputs": [
        {
          "output_type": "execute_result",
          "data": {
            "text/plain": [
              "True"
            ]
          },
          "metadata": {},
          "execution_count": 3
        }
      ]
    },
    {
      "cell_type": "code",
      "source": [
        "# setup device agnostic code \n",
        "device = \"cuda\" if torch.cuda.is_available() else \"cpu\"\n",
        "device"
      ],
      "metadata": {
        "colab": {
          "base_uri": "https://localhost:8080/",
          "height": 35
        },
        "id": "DxM9bSigXcb6",
        "outputId": "6cd1bd13-b4ab-4182-992c-2eaca15398db"
      },
      "execution_count": null,
      "outputs": [
        {
          "output_type": "execute_result",
          "data": {
            "text/plain": [
              "'cuda'"
            ],
            "application/vnd.google.colaboratory.intrinsic+json": {
              "type": "string"
            }
          },
          "metadata": {},
          "execution_count": 4
        }
      ]
    },
    {
      "cell_type": "code",
      "source": [
        "# count number of devices\n",
        "torch.cuda.device_count()"
      ],
      "metadata": {
        "colab": {
          "base_uri": "https://localhost:8080/"
        },
        "id": "pLsPhRXQX4ma",
        "outputId": "c4daecfa-c1c3-4f2b-e10c-306e8e719d60"
      },
      "execution_count": null,
      "outputs": [
        {
          "output_type": "execute_result",
          "data": {
            "text/plain": [
              "1"
            ]
          },
          "metadata": {},
          "execution_count": 5
        }
      ]
    },
    {
      "cell_type": "code",
      "source": [
        "tensor = torch.tensor([1,2,3])\n",
        "tensor, tensor.device"
      ],
      "metadata": {
        "colab": {
          "base_uri": "https://localhost:8080/"
        },
        "id": "o_DcwKnnYJV7",
        "outputId": "5489bf87-1654-4961-ee72-1f7e5e9df3fe"
      },
      "execution_count": null,
      "outputs": [
        {
          "output_type": "execute_result",
          "data": {
            "text/plain": [
              "(tensor([1, 2, 3]), device(type='cpu'))"
            ]
          },
          "metadata": {},
          "execution_count": 6
        }
      ]
    },
    {
      "cell_type": "code",
      "source": [
        "# move tensor to GPU\n",
        "tensor_gpu = tensor.to(device)\n",
        "tensor_gpu"
      ],
      "metadata": {
        "colab": {
          "base_uri": "https://localhost:8080/"
        },
        "id": "8blOLuFKY8O6",
        "outputId": "e27a4846-213a-413b-9845-0436b94b5b5c"
      },
      "execution_count": null,
      "outputs": [
        {
          "output_type": "execute_result",
          "data": {
            "text/plain": [
              "tensor([1, 2, 3], device='cuda:0')"
            ]
          },
          "metadata": {},
          "execution_count": 8
        }
      ]
    },
    {
      "cell_type": "code",
      "source": [
        "# numpy works only with 'cpu'.\n",
        "tensor_gpu.cpu().numpy()"
      ],
      "metadata": {
        "colab": {
          "base_uri": "https://localhost:8080/"
        },
        "id": "FCjXDUf5ZF2a",
        "outputId": "e4665d5a-a225-4735-f375-48a67efc218a"
      },
      "execution_count": null,
      "outputs": [
        {
          "output_type": "execute_result",
          "data": {
            "text/plain": [
              "array([1, 2, 3])"
            ]
          },
          "metadata": {},
          "execution_count": 9
        }
      ]
    },
    {
      "cell_type": "markdown",
      "source": [
        "# Pytorch Workflow"
      ],
      "metadata": {
        "id": "Mrfzu7UmfLl5"
      }
    },
    {
      "cell_type": "markdown",
      "source": [
        "Machine learning can be divided into two parts:\n",
        "1. Get data into numerical encoding\n",
        "2. Build the model to learn pattern in that numerical representations"
      ],
      "metadata": {
        "id": "yDdTS3-dd3YP"
      }
    },
    {
      "cell_type": "markdown",
      "source": [
        "Lets create some data for linear regression formula i.e., y=mx+c where m->weight, c->bias"
      ],
      "metadata": {
        "id": "cUEwwg2Id3Vq"
      }
    },
    {
      "cell_type": "code",
      "source": [
        "weight=0.7\n",
        "bias=0.3\n",
        "\n",
        "start=0\n",
        "end=1\n",
        "step=0.02\n",
        "\n",
        "X = torch.arange(start,end,step).unsqueeze(dim=1)\n",
        "Y = weight * X + bias"
      ],
      "metadata": {
        "id": "wu2sceOEd3TO"
      },
      "execution_count": null,
      "outputs": []
    },
    {
      "cell_type": "code",
      "source": [
        "len(X), len(Y)"
      ],
      "metadata": {
        "colab": {
          "base_uri": "https://localhost:8080/"
        },
        "id": "sh2QgdX6d3MB",
        "outputId": "15163285-f312-47d8-f5d6-ccbd13cd5cbe"
      },
      "execution_count": null,
      "outputs": [
        {
          "output_type": "execute_result",
          "data": {
            "text/plain": [
              "(50, 50)"
            ]
          },
          "metadata": {},
          "execution_count": 4
        }
      ]
    },
    {
      "cell_type": "code",
      "source": [
        "# split the data into train and test\n",
        "from sklearn.model_selection import train_test_split\n",
        "\n",
        "x_train, x_test, y_train, y_test = train_test_split(X,Y,test_size=0.2)\n",
        "len(x_train),len(y_train),len(x_test),len(y_test)"
      ],
      "metadata": {
        "colab": {
          "base_uri": "https://localhost:8080/"
        },
        "id": "X2oq5I1Cd3Jp",
        "outputId": "1fff917f-d8af-4061-8696-a49f17d85d09"
      },
      "execution_count": null,
      "outputs": [
        {
          "output_type": "execute_result",
          "data": {
            "text/plain": [
              "(40, 40, 10, 10)"
            ]
          },
          "metadata": {},
          "execution_count": 5
        }
      ]
    },
    {
      "cell_type": "code",
      "source": [
        "# create visualize function\n",
        "import matplotlib.pyplot as plt\n",
        "\n",
        "def plot_predictions(train_data=x_train, \n",
        "                     train_labels=y_train, \n",
        "                     test_data=x_test, \n",
        "                     test_labels=y_test, \n",
        "                     predictions=None):\n",
        "  \"\"\"\n",
        "  Plots training data, test data and compares predictions.\n",
        "  \"\"\"\n",
        "  plt.figure(figsize=(10, 7))\n",
        "\n",
        "  # Plot training data in blue\n",
        "  plt.scatter(train_data, train_labels, c=\"b\", s=4, label=\"Training data\")\n",
        "  \n",
        "  # Plot test data in green\n",
        "  plt.scatter(test_data, test_labels, c=\"g\", s=4, label=\"Testing data\")\n",
        "\n",
        "  if predictions is not None:\n",
        "    # Plot the predictions in red (predictions were made on the test data)\n",
        "    plt.scatter(test_data, predictions, c=\"r\", s=4, label=\"Predictions\")\n",
        "\n",
        "  # Show the legend\n",
        "  plt.legend(prop={\"size\": 14});"
      ],
      "metadata": {
        "id": "7PqsPKizjQ3r"
      },
      "execution_count": null,
      "outputs": []
    },
    {
      "cell_type": "code",
      "source": [
        "plot_predictions()"
      ],
      "metadata": {
        "colab": {
          "base_uri": "https://localhost:8080/",
          "height": 599
        },
        "id": "OkMyswz5jUqI",
        "outputId": "c7f4bee1-2a25-4dff-af48-86478c11ef11"
      },
      "execution_count": null,
      "outputs": [
        {
          "output_type": "display_data",
          "data": {
            "text/plain": [
              "<Figure size 1000x700 with 1 Axes>"
            ],
            "image/png": "[encoded data removed]"
          },
          "metadata": {}
        }
      ]
    },
    {
      "cell_type": "markdown",
      "source": [
        "## Build model"
      ],
      "metadata": {
        "id": "cIghSriSF_Fi"
      }
    },
    {
      "cell_type": "code",
      "source": [
        "# Build linear regression model\n",
        "from torch import nn\n",
        "\n",
        "class LinearRegressionModel(nn.Module):\n",
        "  def __init__(self):\n",
        "    super().__init__()\n",
        "    # initialize random value for weight\n",
        "    self.weights = nn.Parameter(torch.randn(1,dtype=torch.float32,requires_grad=True))\n",
        "    self.bias = nn.Parameter(torch.randn(1,dtype=torch.float32,requires_grad=True))\n",
        "  \n",
        "  # Forward method to define the computation in the model\n",
        "  def forward(self, x:torch.Tensor) -> torch.Tensor:\n",
        "    return self.weights * x + self.bias\n"
      ],
      "metadata": {
        "id": "-AYQX_4NjUnx"
      },
      "execution_count": null,
      "outputs": []
    },
    {
      "cell_type": "code",
      "source": [
        "# we can define torch model using nn.Linear() module\n",
        "from torch import nn\n",
        "\n",
        "class LinearRegressionModel1(nn.Module):\n",
        "  def __init__(self):\n",
        "    super().__init__()\n",
        "    self.linear_layer = nn.Linear(in_features=1,\n",
        "                                  out_features=1)\n",
        "    \n",
        "  def forward(self,x:torch.Tensor) -> torch.Tensor:\n",
        "    return self.linear_layer(x)"
      ],
      "metadata": {
        "id": "hhlc_LfS6CzG"
      },
      "execution_count": null,
      "outputs": []
    },
    {
      "cell_type": "code",
      "source": [
        "x = LinearRegressionModel1()\n",
        "x.to(\"cuda\")\n",
        "x.state_dict(), list(x.parameters())"
      ],
      "metadata": {
        "colab": {
          "base_uri": "https://localhost:8080/"
        },
        "id": "9xW3lPB261pd",
        "outputId": "3ca94eef-7e0b-4fc6-a672-28186f6cabab"
      },
      "execution_count": null,
      "outputs": [
        {
          "output_type": "execute_result",
          "data": {
            "text/plain": [
              "(OrderedDict([('linear_layer.weight', tensor([[-0.1612]], device='cuda:0')),\n",
              "              ('linear_layer.bias', tensor([0.1058], device='cuda:0'))]),\n",
              " [Parameter containing:\n",
              "  tensor([[-0.1612]], device='cuda:0', requires_grad=True),\n",
              "  Parameter containing:\n",
              "  tensor([0.1058], device='cuda:0', requires_grad=True)])"
            ]
          },
          "metadata": {},
          "execution_count": 38
        }
      ]
    },
    {
      "cell_type": "code",
      "source": [
        "# create random seed\n",
        "torch.manual_seed(0)\n",
        "model = LinearRegressionModel()\n",
        "list(model.parameters())"
      ],
      "metadata": {
        "id": "-JcoBFr2jUlI",
        "colab": {
          "base_uri": "https://localhost:8080/"
        },
        "outputId": "f9d29854-9632-4ea2-bf7e-d376a6134558"
      },
      "execution_count": null,
      "outputs": [
        {
          "output_type": "execute_result",
          "data": {
            "text/plain": [
              "[Parameter containing:\n",
              " tensor([1.5410], requires_grad=True),\n",
              " Parameter containing:\n",
              " tensor([-0.2934], requires_grad=True)]"
            ]
          },
          "metadata": {},
          "execution_count": 18
        }
      ]
    },
    {
      "cell_type": "code",
      "source": [
        "# list named parameters\n",
        "model.state_dict()"
      ],
      "metadata": {
        "id": "16aoTWhBjUil",
        "colab": {
          "base_uri": "https://localhost:8080/"
        },
        "outputId": "3b4c4db9-699c-4d02-e164-90b015986a03"
      },
      "execution_count": null,
      "outputs": [
        {
          "output_type": "execute_result",
          "data": {
            "text/plain": [
              "OrderedDict([('weights', tensor([1.5410])), ('bias', tensor([-0.2934]))])"
            ]
          },
          "metadata": {},
          "execution_count": 19
        }
      ]
    },
    {
      "cell_type": "code",
      "source": [
        "# Make predictions with model\n",
        "with torch.inference_mode():\n",
        "  y_pred = model(x_test)\n",
        "\n",
        "# also we can use torch.no_grad for inference\n",
        "# with torch.no_grad():\n",
        "#   y_pred = model(x_test)"
      ],
      "metadata": {
        "id": "Q0gbWXEvjUgD"
      },
      "execution_count": null,
      "outputs": []
    },
    {
      "cell_type": "code",
      "source": [
        "# visualize predictions\n",
        "plot_predictions(predictions = y_pred)"
      ],
      "metadata": {
        "colab": {
          "base_uri": "https://localhost:8080/",
          "height": 599
        },
        "id": "vtOGypvfqE9j",
        "outputId": "aa6acfba-3f5d-420b-b284-9b929ac4559a"
      },
      "execution_count": null,
      "outputs": [
        {
          "output_type": "display_data",
          "data": {
            "text/plain": [
              "<Figure size 1000x700 with 1 Axes>"
            ],
            "image/png": "[encoded data removed]"
          },
          "metadata": {}
        }
      ]
    },
    {
      "cell_type": "markdown",
      "source": [
        "## Train model"
      ],
      "metadata": {
        "id": "0pAabWTGrghf"
      }
    },
    {
      "cell_type": "code",
      "source": [
        "# set up loss function\n",
        "loss_fn = nn.L1Loss()\n",
        "\n",
        "# set up optimizer\n",
        "optim = torch.optim.SGD(params=model.parameters(),lr=0.01)"
      ],
      "metadata": {
        "id": "taDY_VSBqHiY"
      },
      "execution_count": null,
      "outputs": []
    },
    {
      "cell_type": "code",
      "source": [
        "# Build training loop\n",
        "epochs = 1000\n",
        "\n",
        "for epoch in range(epochs):\n",
        "  # set model to training model\n",
        "  model.train()\n",
        "\n",
        "  # Forward propogation\n",
        "  y_pred = model(x_train)\n",
        "\n",
        "  # calculate loss\n",
        "  loss = loss_fn(y_pred, y_train)\n",
        "\n",
        "  # optimizer zero grad\n",
        "  optim.zero_grad()\n",
        "\n",
        "  # Backpropogation\n",
        "  loss.backward()\n",
        "\n",
        "  # step the optimizer\n",
        "  optim.step()\n",
        "\n",
        "  # testing loop\n",
        "  model.eval()\n",
        "\n",
        "  with torch.inference_mode():\n",
        "    y_pred_test = model(x_test)\n",
        "    test_loss = loss_fn(y_pred_test, y_test)\n",
        "\n",
        "  if epoch % 100 == 0:\n",
        "    print(f\"Epoch: {epoch} | loss: {loss} | test_loss: {test_loss}\")"
      ],
      "metadata": {
        "id": "FGZcqXI8wJuU",
        "colab": {
          "base_uri": "https://localhost:8080/"
        },
        "outputId": "bed6c4e6-818e-4648-cde1-d4f1821315d5"
      },
      "execution_count": null,
      "outputs": [
        {
          "output_type": "stream",
          "name": "stdout",
          "text": [
            "Epoch: 0 | loss: 0.2763466238975525 | test_loss: 0.14138731360435486\n",
            "Epoch: 100 | loss: 0.17916329205036163 | test_loss: 0.18112479150295258\n",
            "Epoch: 200 | loss: 0.1285611391067505 | test_loss: 0.1323150396347046\n",
            "Epoch: 300 | loss: 0.07796631753444672 | test_loss: 0.08265707641839981\n",
            "Epoch: 400 | loss: 0.027408704161643982 | test_loss: 0.02833275869488716\n",
            "Epoch: 500 | loss: 0.006594470236450434 | test_loss: 0.005274134688079357\n",
            "Epoch: 600 | loss: 0.006594470236450434 | test_loss: 0.005274134688079357\n",
            "Epoch: 700 | loss: 0.006594470236450434 | test_loss: 0.005274134688079357\n",
            "Epoch: 800 | loss: 0.006594470236450434 | test_loss: 0.005274134688079357\n",
            "Epoch: 900 | loss: 0.006594470236450434 | test_loss: 0.005274134688079357\n"
          ]
        }
      ]
    },
    {
      "cell_type": "code",
      "source": [
        "model.state_dict()"
      ],
      "metadata": {
        "colab": {
          "base_uri": "https://localhost:8080/"
        },
        "id": "ffcme-jCxuyD",
        "outputId": "c7bd0930-7e67-44ca-ca5b-21e381dcccdc"
      },
      "execution_count": null,
      "outputs": [
        {
          "output_type": "execute_result",
          "data": {
            "text/plain": [
              "OrderedDict([('weights', tensor([0.7056])), ('bias', tensor([0.3041]))])"
            ]
          },
          "metadata": {},
          "execution_count": 22
        }
      ]
    },
    {
      "cell_type": "code",
      "source": [
        "with torch.inference_mode():\n",
        "  y_pred_new = model(x_test)\n",
        "\n",
        "# visualize predictions\n",
        "plot_predictions(predictions = y_pred_new)"
      ],
      "metadata": {
        "id": "pI1RA3uDxxm1",
        "colab": {
          "base_uri": "https://localhost:8080/",
          "height": 599
        },
        "outputId": "c0f3951c-0e9c-48fd-b380-d74bea1fcb10"
      },
      "execution_count": null,
      "outputs": [
        {
          "output_type": "display_data",
          "data": {
            "text/plain": [
              "<Figure size 1000x700 with 1 Axes>"
            ],
            "image/png": "[encoded data removed]"
          },
          "metadata": {}
        }
      ]
    },
    {
      "cell_type": "markdown",
      "source": [
        "## Save and load model"
      ],
      "metadata": {
        "id": "VNHFc_OlwPqa"
      }
    },
    {
      "cell_type": "markdown",
      "source": [
        "There are 3 methods to save and load models.\n",
        "1. `torch.save()` -> save pytorch object in python pickle format\n",
        "2. `torch.load()` -> load saved pytorch object\n",
        "3. `torch.nn.Module.load_state_dict()` -> load model saved state dictionary"
      ],
      "metadata": {
        "id": "ijUIoXyTw3w5"
      }
    },
    {
      "cell_type": "code",
      "source": [
        "# save model using state_dict()\n",
        "save_path = \"model_0.pth\"\n",
        "torch.save(obj=model.state_dict(),f=save_path)"
      ],
      "metadata": {
        "id": "sd8uGGxGxxke"
      },
      "execution_count": null,
      "outputs": []
    },
    {
      "cell_type": "code",
      "source": [
        "# load pytorch model\n",
        "## initialize the model\n",
        "loaded_model = LinearRegressionModel()\n",
        "\n",
        "## load saved state_dict\n",
        "loaded_model.load_state_dict(torch.load(\"/content/model_0.pth\"))\n",
        "loaded_model.state_dict()"
      ],
      "metadata": {
        "id": "rHL5-A0Mxxhl",
        "colab": {
          "base_uri": "https://localhost:8080/"
        },
        "outputId": "cd981e92-5089-4748-9c51-5efe9ede9335"
      },
      "execution_count": null,
      "outputs": [
        {
          "output_type": "execute_result",
          "data": {
            "text/plain": [
              "OrderedDict([('weights', tensor([0.7056])), ('bias', tensor([0.3041]))])"
            ]
          },
          "metadata": {},
          "execution_count": 25
        }
      ]
    },
    {
      "cell_type": "code",
      "source": [],
      "metadata": {
        "id": "o_GCwwmrxxcl"
      },
      "execution_count": null,
      "outputs": []
    },
    {
      "cell_type": "markdown",
      "source": [
        "# Neural network classification"
      ],
      "metadata": {
        "id": "Xt5VuSfec2nM"
      }
    },
    {
      "cell_type": "code",
      "source": [
        "import torch\n",
        "torch.__version__"
      ],
      "metadata": {
        "colab": {
          "base_uri": "https://localhost:8080/",
          "height": 35
        },
        "id": "Igq6X22Eumql",
        "outputId": "88e9ed3a-4595-4499-d236-9fc1836ce53b"
      },
      "execution_count": 25,
      "outputs": [
        {
          "output_type": "execute_result",
          "data": {
            "text/plain": [
              "'2.0.0+cu118'"
            ],
            "application/vnd.google.colaboratory.intrinsic+json": {
              "type": "string"
            }
          },
          "metadata": {},
          "execution_count": 25
        }
      ]
    },
    {
      "cell_type": "markdown",
      "source": [
        "## create dataset"
      ],
      "metadata": {
        "id": "9jb1gdXftWBF"
      }
    },
    {
      "cell_type": "code",
      "source": [
        "from sklearn.datasets import make_circles\n",
        "\n",
        "\n",
        "# Make 1000 samples \n",
        "n_samples = 1000\n",
        "\n",
        "# Create circles\n",
        "X, y = make_circles(n_samples,\n",
        "                    noise=0.03, # a little bit of noise to the dots\n",
        "                    random_state=42) # keep random state so we get the same values"
      ],
      "metadata": {
        "id": "9Q-WHBNY4Ico"
      },
      "execution_count": 26,
      "outputs": []
    },
    {
      "cell_type": "code",
      "source": [
        "# Visualize with a plot\n",
        "import matplotlib.pyplot as plt\n",
        "plt.scatter(x=X[:, 0], \n",
        "            y=X[:, 1], \n",
        "            c=y, \n",
        "            cmap=plt.cm.RdYlBu);"
      ],
      "metadata": {
        "id": "uzmHvPbG4IaY",
        "colab": {
          "base_uri": "https://localhost:8080/",
          "height": 430
        },
        "outputId": "71beff84-1f87-4fae-d223-23c672daffdc"
      },
      "execution_count": 27,
      "outputs": [
        {
          "output_type": "display_data",
          "data": {
            "text/plain": [
              "<Figure size 640x480 with 1 Axes>"
            ],
            "image/png": "[encoded data removed]"
          },
          "metadata": {}
        }
      ]
    },
    {
      "cell_type": "code",
      "source": [
        "## Check shapes of data\n",
        "print(f\"input shape: {X.shape}\")\n",
        "print(f\"Output shape: {y.shape}\")"
      ],
      "metadata": {
        "id": "4s4Ws2gW4IYc",
        "colab": {
          "base_uri": "https://localhost:8080/"
        },
        "outputId": "ef2b9740-576b-4aea-f3e5-019f55608900"
      },
      "execution_count": 28,
      "outputs": [
        {
          "output_type": "stream",
          "name": "stdout",
          "text": [
            "input shape: (1000, 2)\n",
            "Output shape: (1000,)\n"
          ]
        }
      ]
    },
    {
      "cell_type": "markdown",
      "source": [
        "## convert dataset to tensors"
      ],
      "metadata": {
        "id": "XQ4aRWI0uSl2"
      }
    },
    {
      "cell_type": "code",
      "source": [
        "type(X), type(y)"
      ],
      "metadata": {
        "colab": {
          "base_uri": "https://localhost:8080/"
        },
        "id": "6i5nB2oFus7W",
        "outputId": "885f388e-2b19-4e08-cf1b-bec29cf39349"
      },
      "execution_count": 29,
      "outputs": [
        {
          "output_type": "execute_result",
          "data": {
            "text/plain": [
              "(numpy.ndarray, numpy.ndarray)"
            ]
          },
          "metadata": {},
          "execution_count": 29
        }
      ]
    },
    {
      "cell_type": "code",
      "source": [
        "X = torch.from_numpy(X).type(torch.float)\n",
        "y = torch.from_numpy(y).type(torch.float)"
      ],
      "metadata": {
        "id": "2Sme34HGuWJa"
      },
      "execution_count": 31,
      "outputs": []
    },
    {
      "cell_type": "code",
      "source": [
        "type(X),type(y)"
      ],
      "metadata": {
        "colab": {
          "base_uri": "https://localhost:8080/"
        },
        "id": "PuKPDerCuwX3",
        "outputId": "804fe80b-5a90-4d95-c131-157987f95fb2"
      },
      "execution_count": 32,
      "outputs": [
        {
          "output_type": "execute_result",
          "data": {
            "text/plain": [
              "(torch.Tensor, torch.Tensor)"
            ]
          },
          "metadata": {},
          "execution_count": 32
        }
      ]
    },
    {
      "cell_type": "markdown",
      "source": [
        "## split the dataset"
      ],
      "metadata": {
        "id": "Wz5DvGHltY1J"
      }
    },
    {
      "cell_type": "code",
      "source": [
        "from sklearn.model_selection import train_test_split\n",
        "\n",
        "x_train, x_test, y_train, y_test = train_test_split(X,y,test_size=0.2,random_state=1, shuffle=True)"
      ],
      "metadata": {
        "id": "Q-vp0bsV4ITa"
      },
      "execution_count": 33,
      "outputs": []
    },
    {
      "cell_type": "code",
      "source": [
        "# check shape of splitted data\n",
        "print(f\"x_train: {x_train.shape}, y_train: {y_train.shape}\")\n",
        "print(f\"x_test: {x_test.shape}, y_test: {y_test.shape}\")"
      ],
      "metadata": {
        "id": "f0Go4vQ14IRP",
        "colab": {
          "base_uri": "https://localhost:8080/"
        },
        "outputId": "fb3447e1-ca32-4d0f-c545-eefd3d4a0ca8"
      },
      "execution_count": 34,
      "outputs": [
        {
          "output_type": "stream",
          "name": "stdout",
          "text": [
            "x_train: torch.Size([800, 2]), y_train: torch.Size([800])\n",
            "x_test: torch.Size([200, 2]), y_test: torch.Size([200])\n"
          ]
        }
      ]
    },
    {
      "cell_type": "markdown",
      "source": [
        "## build classification model"
      ],
      "metadata": {
        "id": "YCyRFlq8vCSe"
      }
    },
    {
      "cell_type": "code",
      "source": [
        "import torch\n",
        "from torch import nn\n",
        "\n",
        "device = \"cuda\" if torch.cuda.is_available() else \"cpu\"\n",
        "device"
      ],
      "metadata": {
        "id": "jPHvHQYc4IOg",
        "colab": {
          "base_uri": "https://localhost:8080/",
          "height": 35
        },
        "outputId": "061c4a5f-e2bc-44fe-9f9c-9c431d51aee3"
      },
      "execution_count": 35,
      "outputs": [
        {
          "output_type": "execute_result",
          "data": {
            "text/plain": [
              "'cuda'"
            ],
            "application/vnd.google.colaboratory.intrinsic+json": {
              "type": "string"
            }
          },
          "metadata": {},
          "execution_count": 35
        }
      ]
    },
    {
      "cell_type": "code",
      "source": [
        "# define model\n",
        "class CircleModel(nn.Module):\n",
        "  def __init__(self):\n",
        "    super().__init__()\n",
        "    self.layer1 = nn.Linear(in_features=2,out_features=8)\n",
        "    self.layer2 = nn.Linear(in_features=8,out_features=1)\n",
        "  \n",
        "  def forward(self,x):\n",
        "    return self.layer2(self.layer1(x))"
      ],
      "metadata": {
        "id": "MsmRwbNl4IL_"
      },
      "execution_count": 36,
      "outputs": []
    },
    {
      "cell_type": "code",
      "source": [
        "# move model to device\n",
        "model = CircleModel().to(device)\n",
        "model"
      ],
      "metadata": {
        "colab": {
          "base_uri": "https://localhost:8080/"
        },
        "id": "sUqgWBRdwWaR",
        "outputId": "9e05c005-9595-4bdc-c68a-72e0e3f4f2ef"
      },
      "execution_count": 37,
      "outputs": [
        {
          "output_type": "execute_result",
          "data": {
            "text/plain": [
              "CircleModel(\n",
              "  (layer1): Linear(in_features=2, out_features=8, bias=True)\n",
              "  (layer2): Linear(in_features=8, out_features=1, bias=True)\n",
              ")"
            ]
          },
          "metadata": {},
          "execution_count": 37
        }
      ]
    },
    {
      "cell_type": "code",
      "source": [
        "list(model.parameters())"
      ],
      "metadata": {
        "colab": {
          "base_uri": "https://localhost:8080/"
        },
        "id": "vgSP4DzmwmdG",
        "outputId": "995efc63-a20a-44b1-883a-d3513bf29502"
      },
      "execution_count": 38,
      "outputs": [
        {
          "output_type": "execute_result",
          "data": {
            "text/plain": [
              "[Parameter containing:\n",
              " tensor([[ 0.6882,  0.2035],\n",
              "         [-0.6748,  0.5592],\n",
              "         [ 0.1974,  0.4566],\n",
              "         [-0.5130,  0.2666],\n",
              "         [ 0.5733,  0.4378],\n",
              "         [ 0.5029,  0.6227],\n",
              "         [-0.0982,  0.0569],\n",
              "         [-0.5615, -0.5756]], device='cuda:0', requires_grad=True),\n",
              " Parameter containing:\n",
              " tensor([ 0.6032, -0.1685,  0.0391,  0.4582,  0.6465, -0.5395, -0.1263,  0.3349],\n",
              "        device='cuda:0', requires_grad=True),\n",
              " Parameter containing:\n",
              " tensor([[-0.1908,  0.2236,  0.2448,  0.0485,  0.0327,  0.2247, -0.3260, -0.0021]],\n",
              "        device='cuda:0', requires_grad=True),\n",
              " Parameter containing:\n",
              " tensor([0.0487], device='cuda:0', requires_grad=True)]"
            ]
          },
          "metadata": {},
          "execution_count": 38
        }
      ]
    },
    {
      "cell_type": "code",
      "source": [
        "# Other way of defining model using \"nn.Sequential()\"\n",
        "model_0 = nn.Sequential(\n",
        "    nn.Linear(in_features=2,out_features=8),\n",
        "    nn.Linear(in_features=8,out_features=1)\n",
        ").to(device)"
      ],
      "metadata": {
        "id": "z1xj091EzLdL"
      },
      "execution_count": 39,
      "outputs": []
    },
    {
      "cell_type": "code",
      "source": [
        "list(model_0.parameters())"
      ],
      "metadata": {
        "colab": {
          "base_uri": "https://localhost:8080/"
        },
        "id": "kCAOBGtN20eN",
        "outputId": "8624159b-de94-4510-e640-52d761e80018"
      },
      "execution_count": 40,
      "outputs": [
        {
          "output_type": "execute_result",
          "data": {
            "text/plain": [
              "[Parameter containing:\n",
              " tensor([[ 0.1268, -0.4161],\n",
              "         [-0.6532, -0.5836],\n",
              "         [ 0.5316, -0.3674],\n",
              "         [-0.5017, -0.1911],\n",
              "         [ 0.6775, -0.0080],\n",
              "         [ 0.4062,  0.6596],\n",
              "         [ 0.3694, -0.6902],\n",
              "         [ 0.6079,  0.0059]], device='cuda:0', requires_grad=True),\n",
              " Parameter containing:\n",
              " tensor([-0.4284, -0.5634, -0.0489, -0.2054, -0.5004, -0.2906,  0.3541,  0.6406],\n",
              "        device='cuda:0', requires_grad=True),\n",
              " Parameter containing:\n",
              " tensor([[-0.1681, -0.0047,  0.1346, -0.1890,  0.2775, -0.2762,  0.2035,  0.0071]],\n",
              "        device='cuda:0', requires_grad=True),\n",
              " Parameter containing:\n",
              " tensor([0.2177], device='cuda:0', requires_grad=True)]"
            ]
          },
          "metadata": {},
          "execution_count": 40
        }
      ]
    },
    {
      "cell_type": "code",
      "source": [
        "model_0.state_dict()"
      ],
      "metadata": {
        "colab": {
          "base_uri": "https://localhost:8080/"
        },
        "id": "Tqvk1Gsr20bH",
        "outputId": "d8eabe4e-34ce-4b32-d187-47932ff38f96"
      },
      "execution_count": 41,
      "outputs": [
        {
          "output_type": "execute_result",
          "data": {
            "text/plain": [
              "OrderedDict([('0.weight',\n",
              "              tensor([[ 0.1268, -0.4161],\n",
              "                      [-0.6532, -0.5836],\n",
              "                      [ 0.5316, -0.3674],\n",
              "                      [-0.5017, -0.1911],\n",
              "                      [ 0.6775, -0.0080],\n",
              "                      [ 0.4062,  0.6596],\n",
              "                      [ 0.3694, -0.6902],\n",
              "                      [ 0.6079,  0.0059]], device='cuda:0')),\n",
              "             ('0.bias',\n",
              "              tensor([-0.4284, -0.5634, -0.0489, -0.2054, -0.5004, -0.2906,  0.3541,  0.6406],\n",
              "                     device='cuda:0')),\n",
              "             ('1.weight',\n",
              "              tensor([[-0.1681, -0.0047,  0.1346, -0.1890,  0.2775, -0.2762,  0.2035,  0.0071]],\n",
              "                     device='cuda:0')),\n",
              "             ('1.bias', tensor([0.2177], device='cuda:0'))])"
            ]
          },
          "metadata": {},
          "execution_count": 41
        }
      ]
    },
    {
      "cell_type": "code",
      "source": [
        "# make predictions\n",
        "with torch.inference_mode():\n",
        "  untrained_preds = model_0(x_test.to(device))\n",
        "untrained_preds[:5]"
      ],
      "metadata": {
        "colab": {
          "base_uri": "https://localhost:8080/"
        },
        "id": "S7k9b6lm20Yx",
        "outputId": "b66f4861-2687-438f-8a31-f60088f1194f"
      },
      "execution_count": 49,
      "outputs": [
        {
          "output_type": "execute_result",
          "data": {
            "text/plain": [
              "tensor([[0.6368],\n",
              "        [0.2086],\n",
              "        [0.6814],\n",
              "        [0.6588],\n",
              "        [0.5459]], device='cuda:0')"
            ]
          },
          "metadata": {},
          "execution_count": 49
        }
      ]
    },
    {
      "cell_type": "code",
      "source": [
        "y_test[:5]"
      ],
      "metadata": {
        "colab": {
          "base_uri": "https://localhost:8080/"
        },
        "id": "WJiwdOGx20TZ",
        "outputId": "b20c86ae-e35c-4e72-ebf1-39ee01294f65"
      },
      "execution_count": 50,
      "outputs": [
        {
          "output_type": "execute_result",
          "data": {
            "text/plain": [
              "tensor([0., 0., 0., 0., 1.])"
            ]
          },
          "metadata": {},
          "execution_count": 50
        }
      ]
    },
    {
      "cell_type": "code",
      "source": [],
      "metadata": {
        "id": "3HvJ4hxGR2Cn"
      },
      "execution_count": null,
      "outputs": []
    },
    {
      "cell_type": "markdown",
      "source": [
        "##Define loss function and optimizers"
      ],
      "metadata": {
        "id": "e_4V987RR58l"
      }
    },
    {
      "cell_type": "code",
      "source": [
        "# loss function\n",
        "loss_fn = nn.BCEWithLogitsLoss()\n",
        "# optimizer\n",
        "optim = torch.optim.SGD(params=model_0.parameters(),lr=0.01)"
      ],
      "metadata": {
        "id": "2Z_FW4hMR1_q"
      },
      "execution_count": 57,
      "outputs": []
    },
    {
      "cell_type": "code",
      "source": [
        "# calculate the accuracy\n",
        "def accuracy_fun(y_pred, y_true):\n",
        "  correct = torch.eq(y_true,y_pred).sum().item()\n",
        "  acc = (correct/len(y_true))*100\n",
        "  return acc"
      ],
      "metadata": {
        "id": "Qwaq5KYAUSz0"
      },
      "execution_count": 58,
      "outputs": []
    },
    {
      "cell_type": "markdown",
      "source": [
        "## Training"
      ],
      "metadata": {
        "id": "LOWVVkraR2fF"
      }
    },
    {
      "cell_type": "code",
      "source": [
        "# training loop\n",
        "epochs = 1000\n",
        "\n",
        "# convert data to cuda device\n",
        "x_train, y_train = x_train.to(device), y_train.to(device)\n",
        "x_test, y_test = x_test.to(device), y_test.to(device)\n",
        "\n",
        "for epoch in range(epochs):\n",
        "  # train mode\n",
        "  model_0.train()\n",
        "\n",
        "  # forward pass\n",
        "  y_logits = model_0(x_train).squeeze()\n",
        "  y_pred = torch.round(torch.sigmoid(y_logits))\n",
        "\n",
        "  # generate loss values\n",
        "  loss = loss_fn(y_logits,y_train)\n",
        "  acc = accuracy_fun(y_pred=y_pred,y_true = y_train)\n",
        "\n",
        "  # zero grad\n",
        "  model_0.zero_grad()\n",
        "\n",
        "  # loss\n",
        "  loss.backward()\n",
        "\n",
        "  # update weights\n",
        "  optim.step()\n",
        "\n",
        "  # testing loop\n",
        "  model_0.eval()\n",
        "  with torch.inference_mode():\n",
        "    test_logits = model_0(x_test).squeeze()\n",
        "    test_pred = torch.round(torch.sigmoid(test_logits))\n",
        "\n",
        "    # test loss\n",
        "    test_loss = loss_fn(test_logits,y_test)\n",
        "    # test accuracy\n",
        "    test_acc = accuracy_fun(test_pred,y_test)\n",
        "\n",
        "  if epoch % 10 == 0:\n",
        "    print(f\"epoch:{epoch} | train_loss:{loss:.5f} | train_acc: {acc:.2f}% | test_loss:{test_loss:.5f} | test_acc:{test_acc:.2f}%\")"
      ],
      "metadata": {
        "colab": {
          "base_uri": "https://localhost:8080/"
        },
        "id": "ABulonpX20Q7",
        "outputId": "3678a2d2-ad03-4c1b-f396-128fa5ebf95d"
      },
      "execution_count": 67,
      "outputs": [
        {
          "output_type": "stream",
          "name": "stdout",
          "text": [
            "epoch:0 | train_loss:0.71451 | train_acc: 58.13% | test_loss:0.72005 | test_acc:61.50%\n",
            "epoch:10 | train_loss:0.71230 | train_acc: 58.88% | test_loss:0.71793 | test_acc:60.00%\n",
            "epoch:20 | train_loss:0.71035 | train_acc: 56.00% | test_loss:0.71607 | test_acc:58.50%\n",
            "epoch:30 | train_loss:0.70862 | train_acc: 54.37% | test_loss:0.71441 | test_acc:55.50%\n",
            "epoch:40 | train_loss:0.70710 | train_acc: 54.12% | test_loss:0.71295 | test_acc:55.00%\n",
            "epoch:50 | train_loss:0.70575 | train_acc: 53.87% | test_loss:0.71166 | test_acc:53.50%\n",
            "epoch:60 | train_loss:0.70455 | train_acc: 53.25% | test_loss:0.71051 | test_acc:53.50%\n",
            "epoch:70 | train_loss:0.70349 | train_acc: 53.62% | test_loss:0.70948 | test_acc:52.00%\n",
            "epoch:80 | train_loss:0.70255 | train_acc: 53.75% | test_loss:0.70857 | test_acc:50.50%\n",
            "epoch:90 | train_loss:0.70172 | train_acc: 54.00% | test_loss:0.70776 | test_acc:48.50%\n",
            "epoch:100 | train_loss:0.70098 | train_acc: 53.37% | test_loss:0.70703 | test_acc:48.00%\n",
            "epoch:110 | train_loss:0.70032 | train_acc: 53.37% | test_loss:0.70638 | test_acc:48.00%\n",
            "epoch:120 | train_loss:0.69972 | train_acc: 52.38% | test_loss:0.70579 | test_acc:49.00%\n",
            "epoch:130 | train_loss:0.69920 | train_acc: 52.75% | test_loss:0.70526 | test_acc:49.00%\n",
            "epoch:140 | train_loss:0.69873 | train_acc: 52.62% | test_loss:0.70478 | test_acc:49.00%\n",
            "epoch:150 | train_loss:0.69830 | train_acc: 52.25% | test_loss:0.70434 | test_acc:49.00%\n",
            "epoch:160 | train_loss:0.69792 | train_acc: 51.88% | test_loss:0.70394 | test_acc:48.50%\n",
            "epoch:170 | train_loss:0.69758 | train_acc: 51.62% | test_loss:0.70358 | test_acc:48.50%\n",
            "epoch:180 | train_loss:0.69727 | train_acc: 52.00% | test_loss:0.70325 | test_acc:49.00%\n",
            "epoch:190 | train_loss:0.69699 | train_acc: 52.00% | test_loss:0.70295 | test_acc:48.50%\n",
            "epoch:200 | train_loss:0.69674 | train_acc: 52.00% | test_loss:0.70266 | test_acc:48.50%\n",
            "epoch:210 | train_loss:0.69651 | train_acc: 52.12% | test_loss:0.70240 | test_acc:48.00%\n",
            "epoch:220 | train_loss:0.69630 | train_acc: 52.00% | test_loss:0.70216 | test_acc:47.50%\n",
            "epoch:230 | train_loss:0.69611 | train_acc: 52.25% | test_loss:0.70193 | test_acc:47.50%\n",
            "epoch:240 | train_loss:0.69594 | train_acc: 52.12% | test_loss:0.70172 | test_acc:47.50%\n",
            "epoch:250 | train_loss:0.69578 | train_acc: 51.75% | test_loss:0.70152 | test_acc:46.00%\n",
            "epoch:260 | train_loss:0.69563 | train_acc: 51.62% | test_loss:0.70133 | test_acc:45.50%\n",
            "epoch:270 | train_loss:0.69550 | train_acc: 51.88% | test_loss:0.70116 | test_acc:46.50%\n",
            "epoch:280 | train_loss:0.69537 | train_acc: 51.75% | test_loss:0.70099 | test_acc:47.00%\n",
            "epoch:290 | train_loss:0.69526 | train_acc: 51.88% | test_loss:0.70083 | test_acc:47.00%\n",
            "epoch:300 | train_loss:0.69515 | train_acc: 52.00% | test_loss:0.70068 | test_acc:47.50%\n",
            "epoch:310 | train_loss:0.69505 | train_acc: 51.88% | test_loss:0.70053 | test_acc:47.50%\n",
            "epoch:320 | train_loss:0.69496 | train_acc: 51.75% | test_loss:0.70039 | test_acc:46.50%\n",
            "epoch:330 | train_loss:0.69487 | train_acc: 51.75% | test_loss:0.70026 | test_acc:46.00%\n",
            "epoch:340 | train_loss:0.69479 | train_acc: 51.50% | test_loss:0.70013 | test_acc:46.50%\n",
            "epoch:350 | train_loss:0.69472 | train_acc: 51.25% | test_loss:0.70000 | test_acc:46.50%\n",
            "epoch:360 | train_loss:0.69465 | train_acc: 50.75% | test_loss:0.69988 | test_acc:47.00%\n",
            "epoch:370 | train_loss:0.69458 | train_acc: 50.75% | test_loss:0.69977 | test_acc:47.00%\n",
            "epoch:380 | train_loss:0.69452 | train_acc: 50.75% | test_loss:0.69965 | test_acc:47.00%\n",
            "epoch:390 | train_loss:0.69446 | train_acc: 50.62% | test_loss:0.69955 | test_acc:47.00%\n",
            "epoch:400 | train_loss:0.69440 | train_acc: 50.62% | test_loss:0.69944 | test_acc:47.00%\n",
            "epoch:410 | train_loss:0.69435 | train_acc: 50.38% | test_loss:0.69934 | test_acc:47.00%\n",
            "epoch:420 | train_loss:0.69430 | train_acc: 50.50% | test_loss:0.69924 | test_acc:47.50%\n",
            "epoch:430 | train_loss:0.69425 | train_acc: 50.50% | test_loss:0.69914 | test_acc:47.50%\n",
            "epoch:440 | train_loss:0.69420 | train_acc: 50.38% | test_loss:0.69904 | test_acc:47.50%\n",
            "epoch:450 | train_loss:0.69416 | train_acc: 50.38% | test_loss:0.69895 | test_acc:47.50%\n",
            "epoch:460 | train_loss:0.69412 | train_acc: 50.25% | test_loss:0.69886 | test_acc:47.50%\n",
            "epoch:470 | train_loss:0.69408 | train_acc: 50.38% | test_loss:0.69877 | test_acc:47.50%\n",
            "epoch:480 | train_loss:0.69404 | train_acc: 50.12% | test_loss:0.69868 | test_acc:48.00%\n",
            "epoch:490 | train_loss:0.69400 | train_acc: 50.38% | test_loss:0.69860 | test_acc:48.00%\n",
            "epoch:500 | train_loss:0.69397 | train_acc: 50.25% | test_loss:0.69852 | test_acc:48.00%\n",
            "epoch:510 | train_loss:0.69394 | train_acc: 50.25% | test_loss:0.69844 | test_acc:48.00%\n",
            "epoch:520 | train_loss:0.69390 | train_acc: 50.38% | test_loss:0.69836 | test_acc:48.00%\n",
            "epoch:530 | train_loss:0.69387 | train_acc: 50.50% | test_loss:0.69828 | test_acc:48.00%\n",
            "epoch:540 | train_loss:0.69384 | train_acc: 50.62% | test_loss:0.69821 | test_acc:48.00%\n",
            "epoch:550 | train_loss:0.69381 | train_acc: 50.38% | test_loss:0.69813 | test_acc:48.00%\n",
            "epoch:560 | train_loss:0.69379 | train_acc: 50.12% | test_loss:0.69806 | test_acc:48.00%\n",
            "epoch:570 | train_loss:0.69376 | train_acc: 50.00% | test_loss:0.69799 | test_acc:48.00%\n",
            "epoch:580 | train_loss:0.69374 | train_acc: 50.00% | test_loss:0.69792 | test_acc:47.50%\n",
            "epoch:590 | train_loss:0.69371 | train_acc: 50.00% | test_loss:0.69785 | test_acc:47.50%\n",
            "epoch:600 | train_loss:0.69369 | train_acc: 50.00% | test_loss:0.69778 | test_acc:47.50%\n",
            "epoch:610 | train_loss:0.69367 | train_acc: 49.88% | test_loss:0.69772 | test_acc:47.50%\n",
            "epoch:620 | train_loss:0.69364 | train_acc: 50.00% | test_loss:0.69766 | test_acc:47.50%\n",
            "epoch:630 | train_loss:0.69362 | train_acc: 50.00% | test_loss:0.69759 | test_acc:47.50%\n",
            "epoch:640 | train_loss:0.69360 | train_acc: 50.00% | test_loss:0.69753 | test_acc:47.50%\n",
            "epoch:650 | train_loss:0.69358 | train_acc: 50.00% | test_loss:0.69747 | test_acc:46.50%\n",
            "epoch:660 | train_loss:0.69356 | train_acc: 50.00% | test_loss:0.69741 | test_acc:46.50%\n",
            "epoch:670 | train_loss:0.69355 | train_acc: 50.12% | test_loss:0.69735 | test_acc:46.50%\n",
            "epoch:680 | train_loss:0.69353 | train_acc: 50.25% | test_loss:0.69730 | test_acc:46.50%\n",
            "epoch:690 | train_loss:0.69351 | train_acc: 50.25% | test_loss:0.69724 | test_acc:46.50%\n",
            "epoch:700 | train_loss:0.69350 | train_acc: 50.25% | test_loss:0.69719 | test_acc:46.50%\n",
            "epoch:710 | train_loss:0.69348 | train_acc: 50.00% | test_loss:0.69714 | test_acc:46.50%\n",
            "epoch:720 | train_loss:0.69346 | train_acc: 50.00% | test_loss:0.69708 | test_acc:46.50%\n",
            "epoch:730 | train_loss:0.69345 | train_acc: 50.12% | test_loss:0.69703 | test_acc:46.50%\n",
            "epoch:740 | train_loss:0.69344 | train_acc: 50.12% | test_loss:0.69698 | test_acc:46.50%\n",
            "epoch:750 | train_loss:0.69342 | train_acc: 50.12% | test_loss:0.69693 | test_acc:46.50%\n",
            "epoch:760 | train_loss:0.69341 | train_acc: 50.12% | test_loss:0.69688 | test_acc:47.00%\n",
            "epoch:770 | train_loss:0.69340 | train_acc: 50.25% | test_loss:0.69684 | test_acc:47.00%\n",
            "epoch:780 | train_loss:0.69338 | train_acc: 50.38% | test_loss:0.69679 | test_acc:47.00%\n",
            "epoch:790 | train_loss:0.69337 | train_acc: 50.50% | test_loss:0.69675 | test_acc:47.00%\n",
            "epoch:800 | train_loss:0.69336 | train_acc: 50.25% | test_loss:0.69670 | test_acc:47.00%\n",
            "epoch:810 | train_loss:0.69335 | train_acc: 50.25% | test_loss:0.69666 | test_acc:47.00%\n",
            "epoch:820 | train_loss:0.69334 | train_acc: 50.25% | test_loss:0.69662 | test_acc:47.00%\n",
            "epoch:830 | train_loss:0.69333 | train_acc: 50.25% | test_loss:0.69657 | test_acc:47.00%\n",
            "epoch:840 | train_loss:0.69332 | train_acc: 50.25% | test_loss:0.69653 | test_acc:46.50%\n",
            "epoch:850 | train_loss:0.69331 | train_acc: 50.25% | test_loss:0.69649 | test_acc:46.50%\n",
            "epoch:860 | train_loss:0.69330 | train_acc: 50.25% | test_loss:0.69645 | test_acc:47.00%\n",
            "epoch:870 | train_loss:0.69329 | train_acc: 50.25% | test_loss:0.69641 | test_acc:47.00%\n",
            "epoch:880 | train_loss:0.69328 | train_acc: 50.12% | test_loss:0.69638 | test_acc:47.00%\n",
            "epoch:890 | train_loss:0.69327 | train_acc: 50.12% | test_loss:0.69634 | test_acc:46.50%\n",
            "epoch:900 | train_loss:0.69326 | train_acc: 50.25% | test_loss:0.69630 | test_acc:46.50%\n",
            "epoch:910 | train_loss:0.69326 | train_acc: 50.25% | test_loss:0.69627 | test_acc:46.50%\n",
            "epoch:920 | train_loss:0.69325 | train_acc: 50.38% | test_loss:0.69623 | test_acc:46.50%\n",
            "epoch:930 | train_loss:0.69324 | train_acc: 50.38% | test_loss:0.69620 | test_acc:46.50%\n",
            "epoch:940 | train_loss:0.69323 | train_acc: 50.38% | test_loss:0.69616 | test_acc:46.50%\n",
            "epoch:950 | train_loss:0.69323 | train_acc: 50.38% | test_loss:0.69613 | test_acc:46.50%\n",
            "epoch:960 | train_loss:0.69322 | train_acc: 50.25% | test_loss:0.69610 | test_acc:46.50%\n",
            "epoch:970 | train_loss:0.69321 | train_acc: 50.25% | test_loss:0.69607 | test_acc:46.50%\n",
            "epoch:980 | train_loss:0.69321 | train_acc: 50.12% | test_loss:0.69604 | test_acc:46.50%\n",
            "epoch:990 | train_loss:0.69320 | train_acc: 50.12% | test_loss:0.69600 | test_acc:46.50%\n"
          ]
        }
      ]
    },
    {
      "cell_type": "markdown",
      "source": [
        "Both train and test accuracy is very low. So this model can not be used for predictions.\n",
        "\n",
        "* How to improve model\n",
        "1. Change epochs to higher value\n",
        "2. Create model with more deeper layers\n",
        "3. Chnage loss function\n",
        "4. add/change activation function\n",
        "5. Change learning rate in optimizer"
      ],
      "metadata": {
        "id": "b-IN1kAwcktY"
      }
    },
    {
      "cell_type": "code",
      "source": [],
      "metadata": {
        "id": "je-kJyoEbHzI"
      },
      "execution_count": null,
      "outputs": []
    }
  ]
}